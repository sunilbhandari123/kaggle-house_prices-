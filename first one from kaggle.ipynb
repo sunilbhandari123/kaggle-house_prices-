{
 "cells": [
  {
   "cell_type": "code",
   "execution_count": null,
   "id": "11710392",
   "metadata": {},
   "outputs": [],
   "source": [
    "import pandas as pd\n",
    "import numpy as np\n",
    "from matplotlib import pyplot as plt\n"
   ]
  },
  {
   "cell_type": "code",
   "execution_count": null,
   "id": "14b3c6b9",
   "metadata": {},
   "outputs": [],
   "source": [
    "data=pd.read_csv('train.csv')\n",
    "data.head()"
   ]
  },
  {
   "cell_type": "code",
   "execution_count": null,
   "id": "2025266a",
   "metadata": {},
   "outputs": [],
   "source": [
    "df=data"
   ]
  },
  {
   "cell_type": "code",
   "execution_count": null,
   "id": "d7726056",
   "metadata": {},
   "outputs": [],
   "source": [
    "df.columns"
   ]
  },
  {
   "cell_type": "code",
   "execution_count": null,
   "id": "8cd4ded5",
   "metadata": {},
   "outputs": [],
   "source": [
    "pd.set_option('display.max_rows', None)\n",
    "pd.set_option('display.max_columns', None) \n"
   ]
  },
  {
   "cell_type": "markdown",
   "id": "3f785cd5",
   "metadata": {},
   "source": [
    "### Handeling missing values at first "
   ]
  },
  {
   "cell_type": "code",
   "execution_count": null,
   "id": "134f42ce",
   "metadata": {},
   "outputs": [],
   "source": [
    "missing_values=df.isnull().sum()"
   ]
  },
  {
   "cell_type": "code",
   "execution_count": null,
   "id": "9267d61f",
   "metadata": {},
   "outputs": [],
   "source": [
    "print(missing_values)"
   ]
  },
  {
   "cell_type": "markdown",
   "id": "e204259a",
   "metadata": {},
   "source": [
    "Here are many missing values so we will handel it one by one"
   ]
  },
  {
   "cell_type": "code",
   "execution_count": null,
   "id": "a8c3d8c6",
   "metadata": {},
   "outputs": [],
   "source": [
    "df['LotFrontage']"
   ]
  },
  {
   "cell_type": "code",
   "execution_count": null,
   "id": "a21ed979",
   "metadata": {},
   "outputs": [],
   "source": []
  },
  {
   "cell_type": "code",
   "execution_count": null,
   "id": "67317164",
   "metadata": {},
   "outputs": [],
   "source": [
    "def function(df,variable):\n",
    "    mediann=df[variable].median()\n",
    "    df[variable+'_median']=df[variable].fillna(mediann)"
   ]
  },
  {
   "cell_type": "code",
   "execution_count": null,
   "id": "ba19ec85",
   "metadata": {},
   "outputs": [],
   "source": [
    "for features in ['LotFrontage','MasVnrArea']:\n",
    "    function(df,features)"
   ]
  },
  {
   "cell_type": "code",
   "execution_count": null,
   "id": "b6f49842",
   "metadata": {},
   "outputs": [],
   "source": [
    "df=df.drop(['LotFrontage','MasVnrArea'],axis=1)"
   ]
  },
  {
   "cell_type": "code",
   "execution_count": null,
   "id": "9e058785",
   "metadata": {},
   "outputs": [],
   "source": [
    "df.head()"
   ]
  },
  {
   "cell_type": "code",
   "execution_count": null,
   "id": "400ee99d",
   "metadata": {},
   "outputs": [],
   "source": [
    "df['LotFrontage_median'].isnull().sum()"
   ]
  },
  {
   "cell_type": "code",
   "execution_count": null,
   "id": "83753665",
   "metadata": {},
   "outputs": [],
   "source": [
    "df['Alley'].unique()"
   ]
  },
  {
   "cell_type": "code",
   "execution_count": null,
   "id": "08129a72",
   "metadata": {},
   "outputs": [],
   "source": [
    "#Here we will replace nan by missing variable"
   ]
  },
  {
   "cell_type": "code",
   "execution_count": null,
   "id": "0038b429",
   "metadata": {},
   "outputs": [],
   "source": [
    "def functionn(df,variable):\n",
    "    df[variable+'_Missing']=np.where(df[variable].isnull(),'missing',df[variable])"
   ]
  },
  {
   "cell_type": "code",
   "execution_count": null,
   "id": "339398f2",
   "metadata": {},
   "outputs": [],
   "source": [
    "for features in ['Alley','FireplaceQu','PoolQC','Fence','MiscFeature']:\n",
    "    functionn(df,features)"
   ]
  },
  {
   "cell_type": "code",
   "execution_count": null,
   "id": "1fc9365c",
   "metadata": {},
   "outputs": [],
   "source": [
    "df.head()"
   ]
  },
  {
   "cell_type": "code",
   "execution_count": null,
   "id": "2b25172e",
   "metadata": {},
   "outputs": [],
   "source": [
    "df=df.drop(['Alley','FireplaceQu','PoolQC','Fence','MiscFeature'],axis=1)"
   ]
  },
  {
   "cell_type": "code",
   "execution_count": null,
   "id": "5178063c",
   "metadata": {},
   "outputs": [],
   "source": [
    "df.head()"
   ]
  },
  {
   "cell_type": "code",
   "execution_count": null,
   "id": "c7892ff1",
   "metadata": {},
   "outputs": [],
   "source": [
    "most_freq_categor=df['BsmtQual'].mode()[0]"
   ]
  },
  {
   "cell_type": "code",
   "execution_count": null,
   "id": "10bbda43",
   "metadata": {},
   "outputs": [],
   "source": [
    "def functionnn (df,variable):\n",
    "    most_frequent_category=df[variable].mode()[0]\n",
    "    df[variable].fillna(most_frequent_category,inplace=True)"
   ]
  },
  {
   "cell_type": "code",
   "execution_count": null,
   "id": "79881c29",
   "metadata": {},
   "outputs": [],
   "source": [
    "for features in ['BsmtQual','BsmtCond','BsmtExposure','BsmtFinType1','BsmtFinType2','Electrical',\n",
    "                 'GarageType','GarageYrBlt','GarageFinish','GarageQual','GarageCond','MasVnrType']:\n",
    "    functionnn(df,features)"
   ]
  },
  {
   "cell_type": "code",
   "execution_count": null,
   "id": "7427cedc",
   "metadata": {},
   "outputs": [],
   "source": [
    "df.head()\n"
   ]
  },
  {
   "cell_type": "code",
   "execution_count": null,
   "id": "49155167",
   "metadata": {},
   "outputs": [],
   "source": [
    "miss=df.isnull().sum()"
   ]
  },
  {
   "cell_type": "code",
   "execution_count": null,
   "id": "7afd3354",
   "metadata": {},
   "outputs": [],
   "source": [
    "print(miss)"
   ]
  },
  {
   "cell_type": "markdown",
   "id": "86979f42",
   "metadata": {},
   "source": [
    "### Here up to now we have handeled all the missing values now its time for Handeling categorical features"
   ]
  },
  {
   "cell_type": "code",
   "execution_count": null,
   "id": "035a68a4",
   "metadata": {},
   "outputs": [],
   "source": [
    "df=df.drop(labels='Id',axis=1)"
   ]
  },
  {
   "cell_type": "code",
   "execution_count": null,
   "id": "86fea3b9",
   "metadata": {},
   "outputs": [],
   "source": [
    "df.head()"
   ]
  },
  {
   "cell_type": "code",
   "execution_count": null,
   "id": "638e5ce1",
   "metadata": {},
   "outputs": [],
   "source": [
    "cate_df=df.columns.astype(str)\n"
   ]
  },
  {
   "cell_type": "code",
   "execution_count": null,
   "id": "6486394d",
   "metadata": {},
   "outputs": [],
   "source": [
    "cate_df"
   ]
  },
  {
   "cell_type": "code",
   "execution_count": null,
   "id": "db3cf21d",
   "metadata": {},
   "outputs": [],
   "source": []
  },
  {
   "cell_type": "code",
   "execution_count": null,
   "id": "1ad86493",
   "metadata": {},
   "outputs": [],
   "source": []
  },
  {
   "cell_type": "code",
   "execution_count": null,
   "id": "bfaf5214",
   "metadata": {},
   "outputs": [],
   "source": [
    "unique_value=df.nunique()"
   ]
  },
  {
   "cell_type": "code",
   "execution_count": null,
   "id": "cd3a32e4",
   "metadata": {},
   "outputs": [],
   "source": [
    "unique_value"
   ]
  },
  {
   "cell_type": "code",
   "execution_count": null,
   "id": "2e854769",
   "metadata": {},
   "outputs": [],
   "source": [
    "features=['Street','Alley_Missing','PavedDrive','GarageFinish','HalfBath','Condition1','Condition2',\n",
    "          'BldgType','CentralAir','LandSlope','Utilities','MSZoning','LotShape','LandContour',\n",
    "          'LotConfig','Fence_Missing','HouseStyle'\n",
    "          ,'RoofStyle','RoofMatl','MasVnrType','ExterQual','ExterCond','Foundation',\n",
    "          'BsmtQual','BsmtCond','BsmtExposure','BsmtFinType1','BsmtFinType2','Heating','Electrical',\n",
    "          'KitchenQual','Functional','GarageType','GarageQual','GarageCond','SaleType','SaleCondition',\n",
    "          'FireplaceQu_Missing','PoolQC_Missing','MiscFeature_Missing']"
   ]
  },
  {
   "cell_type": "code",
   "execution_count": null,
   "id": "48da3572",
   "metadata": {},
   "outputs": [],
   "source": [
    "df=pd.get_dummies(df,columns=features)\n",
    "df"
   ]
  },
  {
   "cell_type": "code",
   "execution_count": null,
   "id": "8ad88356",
   "metadata": {},
   "outputs": [],
   "source": [
    "def Top_10(df,column_name,n):\n",
    "    Top_10=df[column_name].value_counts().sort_values(ascending=False).head(n)\n",
    "    return Top_10\n",
    "    "
   ]
  },
  {
   "cell_type": "code",
   "execution_count": null,
   "id": "83aa27a0",
   "metadata": {},
   "outputs": [],
   "source": [
    "col_name= ['BsmtFinSF1','GarageArea','LotArea','Neighborhood','BsmtFinSF1','WoodDeckSF','BsmtFinSF2'\n",
    "                ,'MoSold','OpenPorchSF','EnclosedPorch','ScreenPorch','GarageYrBlt','TotRmsAbvGrd',\n",
    "                 'GrLivArea','LowQualFinSF','1stFlrSF','2ndFlrSF','TotalBsmtSF','BsmtFinSF2',\n",
    "                 'Exterior1st','Exterior2nd','Exterior1st',\t'Exterior2nd']"
   ]
  },
  {
   "cell_type": "code",
   "execution_count": null,
   "id": "16bc5eef",
   "metadata": {},
   "outputs": [],
   "source": [
    "for features in col_name:\n",
    "    Top_10(df,features,10)"
   ]
  },
  {
   "cell_type": "code",
   "execution_count": null,
   "id": "5eea4b2e",
   "metadata": {},
   "outputs": [],
   "source": [
    "def multi_encoded(df,column_name,category):\n",
    "    df[column_name]=np.where(df[column_name]==category,1,0)\n",
    "    return df\n",
    "    "
   ]
  },
  {
   "cell_type": "code",
   "execution_count": null,
   "id": "070f12ff",
   "metadata": {},
   "outputs": [],
   "source": [
    "multi_encoded(df,col_name,Top_10)"
   ]
  },
  {
   "cell_type": "code",
   "execution_count": null,
   "id": "809f0a53",
   "metadata": {},
   "outputs": [],
   "source": []
  }
 ],
 "metadata": {
  "kernelspec": {
   "display_name": "Python 3 (ipykernel)",
   "language": "python",
   "name": "python3"
  },
  "language_info": {
   "codemirror_mode": {
    "name": "ipython",
    "version": 3
   },
   "file_extension": ".py",
   "mimetype": "text/x-python",
   "name": "python",
   "nbconvert_exporter": "python",
   "pygments_lexer": "ipython3",
   "version": "3.9.13"
  }
 },
 "nbformat": 4,
 "nbformat_minor": 5
}
